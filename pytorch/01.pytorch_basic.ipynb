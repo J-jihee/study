{
  "nbformat": 4,
  "nbformat_minor": 0,
  "metadata": {
    "colab": {
      "name": "pytorch_basic.ipynb",
      "provenance": []
    },
    "kernelspec": {
      "name": "python3",
      "display_name": "Python 3"
    }
  },
  "cells": [
    {
      "cell_type": "markdown",
      "metadata": {
        "id": "8GkdVCnvo-xH"
      },
      "source": [
        "# 파이토치(Pytorch)란?"
      ]
    },
    {
      "cell_type": "markdown",
      "metadata": {
        "id": "KQR972TvpHmW"
      },
      "source": [
        "- Python 기반의 과학 연산 패키지\r\n",
        "- Numpy를 대체하면서 GPU를 이용한 연산이 필요한 경우 사용\r\n",
        "- 최대한의 유연성과 속도를 제공하는 딥러닝 연구 플랫폼이 필요한 경우 사용"
      ]
    },
    {
      "cell_type": "markdown",
      "metadata": {
        "id": "KHZB1SCIpHK-"
      },
      "source": [
        "## 파이토치의 장점\r\n",
        "\r\n",
        "- 텐서플로우보다 간결\r\n",
        "- 학습 및 추론 속도가 빠르고 다루기 간편\r\n",
        "- Define-by-Run 프레임워크 ( 그레프를 만듦과 동시에 결과를 얻는 방식)\r\n",
        "- 현재 대부분의 논문들이 파이토치로 구현"
      ]
    },
    {
      "cell_type": "markdown",
      "metadata": {
        "id": "tV38tiq1pEdG"
      },
      "source": [
        "## 텐서 \r\n",
        "\r\n",
        "- 파이토치의 기본 단위\r\n",
        "- 다차원 배열을 처리하기 위한 데이터 구조\r\n",
        "- Numpy의 ndarray와 거의 같은 API\r\n",
        "- GPU를 사용한 계산 지원\r\n",
        "- 어떤 데이터 형의 텐서이건 torch.tensor라는 함수로 작성가능"
      ]
    },
    {
      "cell_type": "code",
      "metadata": {
        "id": "ExUQA2Ieo7kh"
      },
      "source": [
        ""
      ],
      "execution_count": 1,
      "outputs": []
    },
    {
      "cell_type": "code",
      "metadata": {
        "colab": {
          "base_uri": "https://localhost:8080/"
        },
        "id": "CL_i8XG8o10C",
        "outputId": "7fb2dc46-21ae-4067-e08c-740f3cb16c47"
      },
      "source": [
        "import torch\r\n",
        "import numpy as np\r\n",
        "\r\n",
        "# 빈 텐서 생성 \r\n",
        "x = torch.empty(5,4)\r\n",
        "print(x)\r\n",
        "print('\\n')\r\n",
        "\r\n",
        "# 1로 구성된 텐서 생성\r\n",
        "x = torch.ones(3,3)\r\n",
        "print(x)\r\n",
        "print('\\n')\r\n",
        "\r\n",
        "# 0\r\n",
        "x = torch.zeros(3,4)\r\n",
        "print(x)\r\n",
        "print('\\n')\r\n",
        "\r\n",
        "# 랜덤 : 0~1 사이의 값\r\n",
        "x = torch.rand(4,5)\r\n",
        "print(x)\r\n",
        "print('\\n')\r\n",
        "\r\n",
        "# 리스트나 narray를 텐서로 변환\r\n",
        "test_list = [13,4]\r\n",
        "test_array = np.array([4,56,7])\r\n",
        "\r\n",
        "print(torch.tensor(test_list))\r\n",
        "print(torch.tensor(test_array))\r\n",
        "print('\\n')"
      ],
      "execution_count": 14,
      "outputs": [
        {
          "output_type": "stream",
          "text": [
            "tensor([[5.7305e-36, 0.0000e+00, 7.0065e-44, 6.8664e-44],\n",
            "        [6.3058e-44, 6.7262e-44, 7.0065e-44, 6.3058e-44],\n",
            "        [6.7262e-44, 7.9874e-44, 1.1771e-43, 6.7262e-44],\n",
            "        [7.0065e-44, 8.1275e-44, 7.4269e-44, 7.9874e-44],\n",
            "        [8.1275e-44, 6.8664e-44, 7.0065e-44, 6.4460e-44]])\n",
            "\n",
            "\n",
            "tensor([[1., 1., 1.],\n",
            "        [1., 1., 1.],\n",
            "        [1., 1., 1.]])\n",
            "\n",
            "\n",
            "tensor([[0., 0., 0., 0.],\n",
            "        [0., 0., 0., 0.],\n",
            "        [0., 0., 0., 0.]])\n",
            "\n",
            "\n",
            "tensor([[0.2958, 0.7080, 0.2176, 0.4509, 0.9560],\n",
            "        [0.2824, 0.8010, 0.5111, 0.9268, 0.3937],\n",
            "        [0.2240, 0.5964, 0.6377, 0.9265, 0.9701],\n",
            "        [0.7998, 0.4925, 0.1278, 0.7299, 0.2700]])\n",
            "\n",
            "\n",
            "tensor([13,  4])\n",
            "tensor([ 4, 56,  7])\n",
            "\n",
            "\n"
          ],
          "name": "stdout"
        }
      ]
    },
    {
      "cell_type": "code",
      "metadata": {
        "colab": {
          "base_uri": "https://localhost:8080/"
        },
        "id": "sKAEVUqQo3a4",
        "outputId": "e337889b-c10b-4693-ae1d-ada487640b99"
      },
      "source": [
        "# 텐서 사이즈 확인\r\n",
        "print(x.size())\r\n",
        "print('\\n')\r\n",
        "\r\n",
        "# 텐서 타입 확인\r\n",
        "print(type(x))\r\n",
        "print('\\n')"
      ],
      "execution_count": 17,
      "outputs": [
        {
          "output_type": "stream",
          "text": [
            "torch.Size([4, 5])\n",
            "\n",
            "\n",
            "<class 'torch.Tensor'>\n",
            "\n",
            "\n"
          ],
          "name": "stdout"
        }
      ]
    },
    {
      "cell_type": "code",
      "metadata": {
        "colab": {
          "base_uri": "https://localhost:8080/"
        },
        "id": "PJ52hAspuwFI",
        "outputId": "a82a13c0-a3e7-4e8b-c1f6-740f506d4874"
      },
      "source": [
        "# 텐서의 연산\r\n",
        "\r\n",
        "x = torch.rand(2,2)\r\n",
        "y = torch.rand(2,2)\r\n",
        "print(x)\r\n",
        "print(y)\r\n",
        "print('\\n')\r\n",
        "\r\n",
        "# x + y\r\n",
        "print(x+y)\r\n",
        "print('\\n')\r\n",
        "\r\n",
        "# add\r\n",
        "print(torch.add(x,y))\r\n",
        "print('\\n')\r\n",
        "\r\n",
        "# inplace방식으로 계산\r\n",
        "y.add_(x)\r\n",
        "print(y)"
      ],
      "execution_count": 22,
      "outputs": [
        {
          "output_type": "stream",
          "text": [
            "tensor([[0.8087, 0.3171],\n",
            "        [0.6396, 0.3106]])\n",
            "tensor([[0.5891, 0.4996],\n",
            "        [0.2962, 0.3563]])\n",
            "\n",
            "\n",
            "tensor([[1.3979, 0.8167],\n",
            "        [0.9358, 0.6669]])\n",
            "\n",
            "\n",
            "tensor([[1.3979, 0.8167],\n",
            "        [0.9358, 0.6669]])\n",
            "\n",
            "\n",
            "tensor([[1.3979, 0.8167],\n",
            "        [0.9358, 0.6669]])\n"
          ],
          "name": "stdout"
        }
      ]
    },
    {
      "cell_type": "code",
      "metadata": {
        "colab": {
          "base_uri": "https://localhost:8080/"
        },
        "id": "XmdPuy3lu-LY",
        "outputId": "4ef3e191-14bd-4dda-f450-bc32a6ad5a0a"
      },
      "source": [
        "# 텐서 인덱싱\r\n",
        "print(y[1,1])\r\n",
        "print('\\n')\r\n",
        "\r\n",
        "# 텐서 슬라이싱\r\n",
        "print(y[:,1])"
      ],
      "execution_count": 24,
      "outputs": [
        {
          "output_type": "stream",
          "text": [
            "tensor(0.6669)\n",
            "\n",
            "\n",
            "tensor([0.8167, 0.6669])\n"
          ],
          "name": "stdout"
        }
      ]
    },
    {
      "cell_type": "code",
      "metadata": {
        "colab": {
          "base_uri": "https://localhost:8080/"
        },
        "id": "kVdOYnL-vkxv",
        "outputId": "7b9cc1b9-4e16-4b86-8b26-cbab65927cce"
      },
      "source": [
        "# 텐서의 사이즈 바꾸기\r\n",
        "\r\n",
        "x = torch.rand(8,8)\r\n",
        "print(x)\r\n",
        "print('\\n')\r\n",
        "\r\n",
        "print(x.view(64))\r\n",
        "print('\\n')\r\n",
        "print(x.view(4,16))"
      ],
      "execution_count": 26,
      "outputs": [
        {
          "output_type": "stream",
          "text": [
            "tensor([[0.3487, 0.3575, 0.4847, 0.9052, 0.2279, 0.6034, 0.4974, 0.5475],\n",
            "        [0.4993, 0.4907, 0.6133, 0.5663, 0.4486, 0.4693, 0.6496, 0.6598],\n",
            "        [0.4178, 0.6947, 0.3229, 0.8201, 0.2608, 0.1922, 0.4853, 0.7810],\n",
            "        [0.2317, 0.5408, 0.6536, 0.0906, 0.9341, 0.3201, 0.5394, 0.5509],\n",
            "        [0.7466, 0.2707, 0.3026, 0.1574, 0.3495, 0.2146, 0.5739, 0.1103],\n",
            "        [0.6924, 0.8051, 0.1066, 0.0313, 0.9462, 0.9980, 0.0551, 0.5202],\n",
            "        [0.0394, 0.8831, 0.5208, 0.7259, 0.1764, 0.0737, 0.9949, 0.6653],\n",
            "        [0.1198, 0.5194, 0.6154, 0.0136, 0.8595, 0.2858, 0.5473, 0.6124]])\n",
            "\n",
            "\n",
            "tensor([0.3487, 0.3575, 0.4847, 0.9052, 0.2279, 0.6034, 0.4974, 0.5475, 0.4993,\n",
            "        0.4907, 0.6133, 0.5663, 0.4486, 0.4693, 0.6496, 0.6598, 0.4178, 0.6947,\n",
            "        0.3229, 0.8201, 0.2608, 0.1922, 0.4853, 0.7810, 0.2317, 0.5408, 0.6536,\n",
            "        0.0906, 0.9341, 0.3201, 0.5394, 0.5509, 0.7466, 0.2707, 0.3026, 0.1574,\n",
            "        0.3495, 0.2146, 0.5739, 0.1103, 0.6924, 0.8051, 0.1066, 0.0313, 0.9462,\n",
            "        0.9980, 0.0551, 0.5202, 0.0394, 0.8831, 0.5208, 0.7259, 0.1764, 0.0737,\n",
            "        0.9949, 0.6653, 0.1198, 0.5194, 0.6154, 0.0136, 0.8595, 0.2858, 0.5473,\n",
            "        0.6124])\n",
            "\n",
            "\n",
            "tensor([[0.3487, 0.3575, 0.4847, 0.9052, 0.2279, 0.6034, 0.4974, 0.5475, 0.4993,\n",
            "         0.4907, 0.6133, 0.5663, 0.4486, 0.4693, 0.6496, 0.6598],\n",
            "        [0.4178, 0.6947, 0.3229, 0.8201, 0.2608, 0.1922, 0.4853, 0.7810, 0.2317,\n",
            "         0.5408, 0.6536, 0.0906, 0.9341, 0.3201, 0.5394, 0.5509],\n",
            "        [0.7466, 0.2707, 0.3026, 0.1574, 0.3495, 0.2146, 0.5739, 0.1103, 0.6924,\n",
            "         0.8051, 0.1066, 0.0313, 0.9462, 0.9980, 0.0551, 0.5202],\n",
            "        [0.0394, 0.8831, 0.5208, 0.7259, 0.1764, 0.0737, 0.9949, 0.6653, 0.1198,\n",
            "         0.5194, 0.6154, 0.0136, 0.8595, 0.2858, 0.5473, 0.6124]])\n"
          ],
          "name": "stdout"
        }
      ]
    },
    {
      "cell_type": "code",
      "metadata": {
        "colab": {
          "base_uri": "https://localhost:8080/"
        },
        "id": "nSpxAk8qv7Vp",
        "outputId": "0bcf4ed6-72f6-45a8-d02b-a36c204279aa"
      },
      "source": [
        "# -1로 고정값을 정했을때 나머지를 자동으로 유추\r\n",
        "\r\n",
        "x = torch.randn(4, 4)\r\n",
        "y = x.view(16)\r\n",
        "z = x.view(-1, 8)  # -1은 다른 차원에서 유추합니다.\r\n",
        "test = x.view(-1,4)\r\n",
        "print(x.size(), y.size(), z.size(),test.size())"
      ],
      "execution_count": 31,
      "outputs": [
        {
          "output_type": "stream",
          "text": [
            "torch.Size([4, 4]) torch.Size([16]) torch.Size([2, 8]) torch.Size([4, 4])\n"
          ],
          "name": "stdout"
        }
      ]
    },
    {
      "cell_type": "code",
      "metadata": {
        "colab": {
          "base_uri": "https://localhost:8080/"
        },
        "id": "gRKFIcn-wb5o",
        "outputId": "53ec8c34-bdbf-4431-c86b-213fd7dac80a"
      },
      "source": [
        "# 텐서를 ndarray로 변환\r\n",
        "\r\n",
        "y = x.numpy()\r\n",
        "print(y)\r\n",
        "print(type(y))"
      ],
      "execution_count": 32,
      "outputs": [
        {
          "output_type": "stream",
          "text": [
            "[[-1.5358822   0.7801304  -1.2552966   0.97790164]\n",
            " [ 0.75771505  0.5387477  -1.1171709  -1.8452792 ]\n",
            " [ 0.55111295 -0.01050043 -1.6584823  -0.44969812]\n",
            " [ 1.3440101  -1.1015892   1.4265308   0.9339192 ]]\n",
            "<class 'numpy.ndarray'>\n"
          ],
          "name": "stdout"
        }
      ]
    },
    {
      "cell_type": "code",
      "metadata": {
        "colab": {
          "base_uri": "https://localhost:8080/"
        },
        "id": "f9EtfE4tywFg",
        "outputId": "02e8d760-448a-4696-c307-76354c1006a7"
      },
      "source": [
        "# 원소가 한 개일때 원소의 값만 뽑아내고 싶을때\r\n",
        "\r\n",
        "x = torch.ones(1)\r\n",
        "\r\n",
        "x.item()"
      ],
      "execution_count": 33,
      "outputs": [
        {
          "output_type": "execute_result",
          "data": {
            "text/plain": [
              "1.0"
            ]
          },
          "metadata": {
            "tags": []
          },
          "execution_count": 33
        }
      ]
    },
    {
      "cell_type": "code",
      "metadata": {
        "id": "QgOu8y0Ky0Li"
      },
      "source": [
        ""
      ],
      "execution_count": null,
      "outputs": []
    }
  ]
}